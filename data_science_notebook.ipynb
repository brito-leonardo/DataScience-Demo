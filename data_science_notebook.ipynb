{
  "nbformat": 4,
  "nbformat_minor": 0,
  "metadata": {
    "colab": {
      "provenance": [],
      "toc_visible": true,
      "authorship_tag": "ABX9TyPMQXYDk/jF/3LB1z4tGjFI",
      "include_colab_link": true
    },
    "kernelspec": {
      "name": "python3",
      "display_name": "Python 3"
    },
    "language_info": {
      "name": "python"
    }
  },
  "cells": [
    {
      "cell_type": "markdown",
      "metadata": {
        "id": "view-in-github",
        "colab_type": "text"
      },
      "source": [
        "<a href=\"https://colab.research.google.com/github/brito-leonardo/DataScience-Demo/blob/main/data_science_notebook.ipynb\" target=\"_parent\"><img src=\"https://colab.research.google.com/assets/colab-badge.svg\" alt=\"Open In Colab\"/></a>"
      ]
    },
    {
      "cell_type": "markdown",
      "source": [],
      "metadata": {
        "id": "kt-LHTIbgUHB"
      }
    },
    {
      "cell_type": "markdown",
      "source": [
        "## Ingest"
      ],
      "metadata": {
        "id": "Lc4NOoKPgfTJ"
      }
    },
    {
      "cell_type": "code",
      "source": [],
      "metadata": {
        "id": "HABcMdGEgmWS"
      },
      "execution_count": null,
      "outputs": []
    },
    {
      "cell_type": "markdown",
      "source": [
        "## EDA"
      ],
      "metadata": {
        "id": "uzGYwZisgsBV"
      }
    },
    {
      "cell_type": "code",
      "source": [],
      "metadata": {
        "id": "P4tF5OQsgufq"
      },
      "execution_count": null,
      "outputs": []
    },
    {
      "cell_type": "markdown",
      "source": [],
      "metadata": {
        "id": "7vvs6f2whZbP"
      }
    },
    {
      "cell_type": "code",
      "source": [],
      "metadata": {
        "id": "t04rJFCLhFhQ"
      },
      "execution_count": null,
      "outputs": []
    },
    {
      "cell_type": "markdown",
      "source": [
        "## Modeling"
      ],
      "metadata": {
        "id": "MZO2Cy3KhGde"
      }
    },
    {
      "cell_type": "markdown",
      "source": [],
      "metadata": {
        "id": "il6Bih-Sh3iM"
      }
    },
    {
      "cell_type": "code",
      "source": [],
      "metadata": {
        "id": "VHbt6J55h1dC"
      },
      "execution_count": null,
      "outputs": []
    },
    {
      "cell_type": "markdown",
      "source": [
        "### Classification Algorithm A"
      ],
      "metadata": {
        "id": "X4vgbweAhbBZ"
      }
    },
    {
      "cell_type": "code",
      "source": [],
      "metadata": {
        "id": "miepDKkwhMBs"
      },
      "execution_count": null,
      "outputs": []
    },
    {
      "cell_type": "markdown",
      "source": [
        "### Classifications Algorithm B"
      ],
      "metadata": {
        "id": "H2zWKehbh8XY"
      }
    },
    {
      "cell_type": "code",
      "source": [],
      "metadata": {
        "id": "hnO3rLCGiAdd"
      },
      "execution_count": null,
      "outputs": []
    },
    {
      "cell_type": "markdown",
      "source": [
        "## Conclusion"
      ],
      "metadata": {
        "id": "QPKwp9JEg2E7"
      }
    },
    {
      "cell_type": "markdown",
      "source": [],
      "metadata": {
        "id": "SLWRjC8ngNoD"
      }
    }
  ]
}